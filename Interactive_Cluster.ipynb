{
 "cells": [
  {
   "cell_type": "code",
   "execution_count": null,
   "id": "automotive-calendar",
   "metadata": {},
   "outputs": [],
   "source": [
    "!mpirun -np 4 dask-mpi --scheduler-file ~/scheduler.json"
   ]
  },
  {
   "cell_type": "code",
   "execution_count": null,
   "id": "abandoned-essay",
   "metadata": {},
   "outputs": [],
   "source": [
    "from distributed import Client\n",
    "client = Client(scheduler_file='~/scheduler.json')"
   ]
  }
 ],
 "metadata": {
  "kernelspec": {
   "display_name": "Python 3",
   "language": "python",
   "name": "python3"
  },
  "language_info": {
   "codemirror_mode": {
    "name": "ipython",
    "version": 3
   },
   "file_extension": ".py",
   "mimetype": "text/x-python",
   "name": "python",
   "nbconvert_exporter": "python",
   "pygments_lexer": "ipython3",
   "version": "3.7.10"
  }
 },
 "nbformat": 4,
 "nbformat_minor": 5
}
